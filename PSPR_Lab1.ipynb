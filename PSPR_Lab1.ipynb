{
 "cells": [
  {
   "cell_type": "markdown",
   "id": "b51cdfd8",
   "metadata": {},
   "source": [
    "  # `Problem solving using Python and R Lab`"
   ]
  },
  {
   "cell_type": "markdown",
   "id": "5b96e8e4",
   "metadata": {},
   "source": [
    "## Python Basics and Conditions Lab"
   ]
  },
  {
   "cell_type": "markdown",
   "id": "256da9d1",
   "metadata": {},
   "source": [
    "# `Name    : Berchmans Kevin S`\n"
   ]
  },
  {
   "cell_type": "markdown",
   "id": "3a2a687b",
   "metadata": {},
   "source": [
    "### Question 1. Write a program in Python to input length and breadth of a rectangle and print the area and perimeter of it. Test you code with atleast 2 test cases "
   ]
  },
  {
   "cell_type": "code",
   "execution_count": 1,
   "id": "5869dbe3",
   "metadata": {},
   "outputs": [
    {
     "name": "stdout",
     "output_type": "stream",
     "text": [
      "length:20\n",
      "breadth:25\n",
      "Area of a rectangle : 500\n",
      "Perimeter of a rectangle : 90\n"
     ]
    }
   ],
   "source": [
    "length=int(input(\"length:\")) \n",
    "breadth=int(input(\"breadth:\"))\n",
    "area=length*breadth \n",
    "peri=2*(length+breadth)\n",
    "print(\"Area of a rectangle :\", area) \n",
    "print(\"Perimeter of a rectangle :\", peri) \n"
   ]
  },
  {
   "cell_type": "markdown",
   "id": "8d3c515f",
   "metadata": {},
   "source": [
    "### Question 2. Write a program, which accepts annual basic salary of an employee and calculates and displays the Income tax as per the following rules.\n",
    "• If Basic is less than Rs. 1,50,000/-, then Tax = 0. \n",
    "\n",
    "• If Basic is from Rs.1,50,000/- to Rs. 3,00,000/-, then tax is 20%.\n",
    "\n",
    "• If Basic is greater than Rs.3,00,000/-, then tax is 30%. · Print name, annual income and tax. \n",
    "\n",
    "• Write test cases to validate all conditions \n"
   ]
  },
  {
   "cell_type": "code",
   "execution_count": 2,
   "id": "61596db2",
   "metadata": {},
   "outputs": [
    {
     "name": "stdout",
     "output_type": "stream",
     "text": [
      "Name:Berchmans\n",
      "Basis Salary:300000\n",
      "Name: Berchmans Annual Income: 300000.0 Tax: 240000.0\n"
     ]
    }
   ],
   "source": [
    "Name = str(input(\"Name:\")) \n",
    "Basis = float(input(\"Basis Salary:\")) \n",
    "if (Basis<=150000): \n",
    "    tax=0 \n",
    "    Netsalary=Basis-tax \n",
    "    print(\"Name:\", Name, \"Annual Income:\", Basis, \"Tax:\", Netsalary) \n",
    "elif (Basis>=150000) and (Basis<=300000): \n",
    "    tax=0.2*Basis \n",
    "    Netsalary=Basis-tax \n",
    "    print(\"Name:\", Name, \"Annual Income:\", Basis, \"Tax:\", Netsalary) \n",
    "else: \n",
    "    tax=0.3*Basis\n",
    "    Netsalary=Basis-tax \n",
    "    print(\"Name:\", Name, \"Annual Income:\", Basis, \"Tax:\", Netsalary) "
   ]
  },
  {
   "cell_type": "markdown",
   "id": "f1cc2521",
   "metadata": {},
   "source": [
    "### Question3. Write a program to accept quantity and rate for three (3) items. Compute the totalsales amount. Also compute and print the discount as follows:\n",
    " Amount > Rs. 2000/- : 20% discount\n",
    "\n",
    " Amount between Rs. 1500/- to Rs.1999/- :15% discount\n",
    "\n",
    " Amount between Rs. 1000/- to Rs.1499/- 8 % discount\n",
    "\n",
    " Compute final amount to be paid.\n",
    "\n",
    " Print name, rate and quantity of 3 items. Then print total sales amount, total discount\n",
    "and final amount to be paid to shop.\n",
    "\n",
    " Write 3 test cases to validate all conditions"
   ]
  },
  {
   "cell_type": "code",
   "execution_count": 3,
   "id": "24d91a0e",
   "metadata": {},
   "outputs": [
    {
     "name": "stdout",
     "output_type": "stream",
     "text": [
      "Enter item 1:Biscuit\n",
      "Enter the quantity1:13\n",
      "Enter the rate of 1:1300\n",
      "Enter item 2:Orange\n",
      "Enter the quantity2:7\n",
      "Enter the rate of 2:1500\n",
      "Enter item 3:Dress\n",
      "Enter the quantity3:2\n",
      "Enter the rate of 3:2600\n",
      "Amount 32600.0\n",
      "discount 6520.0 Final_Amount 26080.0\n"
     ]
    }
   ],
   "source": [
    "product1= str(input(\"Enter item 1:\"))\n",
    "quantity1=float(input(\"Enter the quantity1:\"))\n",
    "rate1=float(input(\"Enter the rate of 1:\"))\n",
    "\n",
    "product2= str(input(\"Enter item 2:\"))\n",
    "quantity2=float(input(\"Enter the quantity2:\"))\n",
    "rate2=float(input(\"Enter the rate of 2:\"))\n",
    "\n",
    "product3= str(input(\"Enter item 3:\"))\n",
    "quantity3=float(input(\"Enter the quantity3:\"))\n",
    "rate3=float(input(\"Enter the rate of 3:\"))\n",
    "\n",
    "Amount=(quantity1*rate1)+(quantity2*rate2)+(quantity3*rate3)\n",
    "print(\"Amount\", Amount)\n",
    "\n",
    "if(Amount>=1000) and (Amount<=1499):\n",
    " discount=0.8*Amount\n",
    " Final_Amount=Amount-discount  \n",
    " print(\"discount\", discount,\"Final_Amount\",Final_Amount)\n",
    "\n",
    "elif(Amount>=1500)and(Amount<=1999):\n",
    " discount=0.15*Amount\n",
    " Final_Amount=Amount-discount\n",
    " print(\"discount\", discount,\"Final_Amount\",Final_Amount)\n",
    "\n",
    "else:\n",
    " (Amount>=2000)\n",
    " discount=0.20*Amount\n",
    " Final_Amount=Amount-discount\n",
    " print(\"discount\", discount,\"Final_Amount\",Final_Amount)\n",
    " "
   ]
  },
  {
   "cell_type": "markdown",
   "id": "e4c57199",
   "metadata": {},
   "source": [
    "### Question4. Evaluate the expressions using Pen and Paper first and then print the value.\n",
    " X1=(11+31+23+8+7+5)/((1-(1/2)-(1/20)))\n",
    "\n",
    " X2=(((10*8)+8-((7//5)%(5**4)))&3)|(2<<1)\n",
    "\n"
   ]
  },
  {
   "cell_type": "code",
   "execution_count": 4,
   "id": "b0ade668",
   "metadata": {},
   "outputs": [
    {
     "name": "stdout",
     "output_type": "stream",
     "text": [
      "x1= 188.88888888888889\n",
      "x2= 7\n"
     ]
    }
   ],
   "source": [
    "x1=((11+31+23+8+7+5)/((1-(1/2)-(1/20))))\n",
    "x2=((((10*8)+8-((7//5)%(5**4)))&3)|(2<<1))\n",
    "print(\"x1=\",x1)\n",
    "print(\"x2=\",x2)"
   ]
  },
  {
   "cell_type": "markdown",
   "id": "3153a40d",
   "metadata": {},
   "source": [
    "### Question5. Write a program to accept name, marks for three subjects and find the total marks secured, average and also display the class obtained. \n",
    " Class I – above 80% \n",
    "\n",
    " Class II – 60% to 80% \n",
    "\n",
    " Pass class – 40% to 59% and \n",
    "\n",
    " Fail otherwise \n",
    "Print a message as “Congratulations << your name>>, you secured a total of <<total marks>>, \n",
    "and Your class is <<class>>”\n",
    "Test you code with atleast 2 test cases"
   ]
  },
  {
   "cell_type": "code",
   "execution_count": 3,
   "id": "f9751711",
   "metadata": {},
   "outputs": [
    {
     "name": "stdout",
     "output_type": "stream",
     "text": [
      "Name:Berchmans\n",
      "Mark1:80\n",
      "Mark2:95\n",
      "Mark3:97\n",
      "Congratulations Berchmans ,you secrued a Total of 272.0 and your class is I\n",
      "Name:Kevin\n",
      "Mark1:78\n",
      "Mark2:89\n",
      "Mark3:90\n",
      "Congratulations Kevin ,you secrued a Total of 257.0 and your class is I\n"
     ]
    }
   ],
   "source": [
    "for i in range(2):\n",
    "    Subject_Name=str(input(\"Name:\"))\n",
    "    Mark1=float(input(\"Mark1:\"))\n",
    "    Mark2=float(input(\"Mark2:\"))\n",
    "    Mark3=float(input(\"Mark3:\"))\n",
    "\n",
    "    Total_Mark=Mark1+Mark2+Mark3\n",
    "    Average=Total_Mark/3\n",
    "\n",
    "    if (Average>80): \n",
    "     print(\"Congratulations\", Subject_Name, \",you secrued a Total of\", Total_Mark, \"and your class is I\")\n",
    "\n",
    "    elif (60<=Average>=80):\n",
    "     print(\"Congratulations\", Subject_Name, \",you secrued a Total of\", Total_Mark, \"and your class is II\")\n",
    "\n",
    "    elif (40<=Average>=59):\n",
    "     print(\"Congratulations\", Subject_Name, \",you secrued a Total of\", Total_Mark, \"and your are PASS\")\n",
    "\n",
    "    else:\n",
    "        print(Subject_Name, \",you secrued a Total of\", Mark3, \"and FAIL\")"
   ]
  },
  {
   "cell_type": "markdown",
   "id": "da266b09",
   "metadata": {},
   "source": [
    "### Question6. Read a number from keyboard. Print whether it is odd number, even number, positive number, negative number or zero. Also, print if its ASCII value represents a lower case or upper case letter or digit. \n",
    "\n",
    "### Write 8 test cases to validate odd, even, positive, negative, zero, lower case, upper case and digit input types"
   ]
  },
  {
   "cell_type": "code",
   "execution_count": 4,
   "id": "40092c3a",
   "metadata": {},
   "outputs": [
    {
     "name": "stdout",
     "output_type": "stream",
     "text": [
      "Enter a number :56\n",
      "It is a positive number\n",
      "It is an even number\n",
      "Enter a char:z\n",
      "ASCII Value: z\n",
      "It is a digit\n"
     ]
    }
   ],
   "source": [
    "n=int(input(\"Enter a number :\"))\n",
    "if(n>0):\n",
    "    print(\"It is a positive number\")\n",
    "elif(n<0):\n",
    "    print(\"It is a negative number \")\n",
    "else:\n",
    "    print(\"The number is Zero\")\n",
    "    \n",
    "if(n%2==0):\n",
    "    print(\"It is an even number\")\n",
    "    \n",
    "else:\n",
    "    print(\"It is an odd number\")\n",
    "a=str(input(\"Enter a char:\"))  \n",
    "print(\"ASCII Value:\",a)\n",
    "      \n",
    "if(a)>='a'and(a<='z'):\n",
    "     print(\"It is a lowercase letter\")\n",
    "elif(a)>='A'and(a)<='Z':\n",
    " print(\"It is a uppercase letter\")\n",
    "else:\n",
    "    print(\"It is a digit\")\n"
   ]
  }
 ],
 "metadata": {
  "kernelspec": {
   "display_name": "Python 3",
   "language": "python",
   "name": "python3"
  },
  "language_info": {
   "codemirror_mode": {
    "name": "ipython",
    "version": 3
   },
   "file_extension": ".py",
   "mimetype": "text/x-python",
   "name": "python",
   "nbconvert_exporter": "python",
   "pygments_lexer": "ipython3",
   "version": "3.8.8"
  }
 },
 "nbformat": 4,
 "nbformat_minor": 5
}
